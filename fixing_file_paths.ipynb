{
 "cells": [
  {
   "cell_type": "code",
   "execution_count": 1,
   "id": "cc8754cb-723c-41c0-8304-94e4af3b55c8",
   "metadata": {},
   "outputs": [],
   "source": [
    "import pandas as pd\n",
    "import os"
   ]
  },
  {
   "cell_type": "code",
   "execution_count": 2,
   "id": "b200e1a3-d4d5-403e-ab63-c60a79f04055",
   "metadata": {},
   "outputs": [
    {
     "data": {
      "text/plain": [
       "'/mnt/c/Users/Lukas Becker/Documents/M4480_QIIME2/scripts'"
      ]
     },
     "execution_count": 2,
     "metadata": {},
     "output_type": "execute_result"
    }
   ],
   "source": [
    "os.getcwd()"
   ]
  },
  {
   "cell_type": "code",
   "execution_count": 3,
   "id": "a1d64e97-2db8-475d-b62a-49ff46a6a221",
   "metadata": {},
   "outputs": [],
   "source": [
    "df = pd.read_csv(\"../data/manifest_full.tsv\", sep=\"\\t\")"
   ]
  },
  {
   "cell_type": "code",
   "execution_count": 4,
   "id": "c2618f7c-6438-4033-bf14-58c3b29c448a",
   "metadata": {},
   "outputs": [],
   "source": [
    "df[\"forward-absolute-filepath\"] = df[\"forward-absolute-filepath\"].apply(lambda x: \"/mnt/c/Users/Lukas Becker/Documents/M4480_QIIME2/\" + x.split(\"/\")[-1])\n",
    "df[\"reverse-absolute-filepath\"] = df[\"reverse-absolute-filepath\"].apply(lambda x: \"/mnt/c/Users/Lukas Becker/Documents/M4480_QIIME2/\" + x.split(\"/\")[-1])"
   ]
  },
  {
   "cell_type": "code",
   "execution_count": 5,
   "id": "b9d65c40-2f85-46e6-bab8-75525733685b",
   "metadata": {},
   "outputs": [
    {
     "data": {
      "text/html": [
       "<div>\n",
       "<style scoped>\n",
       "    .dataframe tbody tr th:only-of-type {\n",
       "        vertical-align: middle;\n",
       "    }\n",
       "\n",
       "    .dataframe tbody tr th {\n",
       "        vertical-align: top;\n",
       "    }\n",
       "\n",
       "    .dataframe thead th {\n",
       "        text-align: right;\n",
       "    }\n",
       "</style>\n",
       "<table border=\"1\" class=\"dataframe\">\n",
       "  <thead>\n",
       "    <tr style=\"text-align: right;\">\n",
       "      <th></th>\n",
       "      <th>sample-id</th>\n",
       "      <th>forward-absolute-filepath</th>\n",
       "      <th>reverse-absolute-filepath</th>\n",
       "    </tr>\n",
       "  </thead>\n",
       "  <tbody>\n",
       "    <tr>\n",
       "      <th>0</th>\n",
       "      <td>12C_1</td>\n",
       "      <td>/mnt/d/github_projects/qiime2_testing/data/dat...</td>\n",
       "      <td>/mnt/d/github_projects/qiime2_testing/data/dat...</td>\n",
       "    </tr>\n",
       "    <tr>\n",
       "      <th>1</th>\n",
       "      <td>12C_2</td>\n",
       "      <td>/mnt/d/github_projects/qiime2_testing/data/dat...</td>\n",
       "      <td>/mnt/d/github_projects/qiime2_testing/data/dat...</td>\n",
       "    </tr>\n",
       "    <tr>\n",
       "      <th>2</th>\n",
       "      <td>12C_3</td>\n",
       "      <td>/mnt/d/github_projects/qiime2_testing/data/dat...</td>\n",
       "      <td>/mnt/d/github_projects/qiime2_testing/data/dat...</td>\n",
       "    </tr>\n",
       "    <tr>\n",
       "      <th>3</th>\n",
       "      <td>12C_4</td>\n",
       "      <td>/mnt/d/github_projects/qiime2_testing/data/dat...</td>\n",
       "      <td>/mnt/d/github_projects/qiime2_testing/data/dat...</td>\n",
       "    </tr>\n",
       "    <tr>\n",
       "      <th>4</th>\n",
       "      <td>12C_5</td>\n",
       "      <td>/mnt/d/github_projects/qiime2_testing/data/dat...</td>\n",
       "      <td>/mnt/d/github_projects/qiime2_testing/data/dat...</td>\n",
       "    </tr>\n",
       "  </tbody>\n",
       "</table>\n",
       "</div>"
      ],
      "text/plain": [
       "  sample-id                          forward-absolute-filepath  \\\n",
       "0     12C_1  /mnt/d/github_projects/qiime2_testing/data/dat...   \n",
       "1     12C_2  /mnt/d/github_projects/qiime2_testing/data/dat...   \n",
       "2     12C_3  /mnt/d/github_projects/qiime2_testing/data/dat...   \n",
       "3     12C_4  /mnt/d/github_projects/qiime2_testing/data/dat...   \n",
       "4     12C_5  /mnt/d/github_projects/qiime2_testing/data/dat...   \n",
       "\n",
       "                           reverse-absolute-filepath  \n",
       "0  /mnt/d/github_projects/qiime2_testing/data/dat...  \n",
       "1  /mnt/d/github_projects/qiime2_testing/data/dat...  \n",
       "2  /mnt/d/github_projects/qiime2_testing/data/dat...  \n",
       "3  /mnt/d/github_projects/qiime2_testing/data/dat...  \n",
       "4  /mnt/d/github_projects/qiime2_testing/data/dat...  "
      ]
     },
     "execution_count": 5,
     "metadata": {},
     "output_type": "execute_result"
    }
   ],
   "source": [
    "df.head()"
   ]
  },
  {
   "cell_type": "code",
   "execution_count": 6,
   "id": "812a0ca2-dbd6-435c-805a-55353de69039",
   "metadata": {},
   "outputs": [],
   "source": [
    "df.to_csv(\"../data/data1/hydra_aep/manifest_full_corrected.tsv\", sep=\"\\t\", index=None)"
   ]
  }
 ],
 "metadata": {
  "kernelspec": {
   "display_name": "Python 3 (ipykernel)",
   "language": "python",
   "name": "python3"
  },
  "language_info": {
   "codemirror_mode": {
    "name": "ipython",
    "version": 3
   },
   "file_extension": ".py",
   "mimetype": "text/x-python",
   "name": "python",
   "nbconvert_exporter": "python",
   "pygments_lexer": "ipython3",
   "version": "3.10.14"
  }
 },
 "nbformat": 4,
 "nbformat_minor": 5
}
