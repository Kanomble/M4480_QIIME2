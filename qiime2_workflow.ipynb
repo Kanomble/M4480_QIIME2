{
 "cells": [
  {
   "cell_type": "code",
   "execution_count": 15,
   "id": "58783261",
   "metadata": {},
   "outputs": [],
   "source": [
    "from qiime2 import Metadata\n",
    "from qiime2 import Artifact\n",
    "import qiime2.plugins.metadata.actions as metadata_actions\n",
    "from qiime2.plugins.demux.visualizers import summarize\n",
    "\n",
    "\n",
    "import warnings\n",
    "warnings.simplefilter(action='ignore', category=FutureWarning)"
   ]
  },
  {
   "cell_type": "markdown",
   "id": "0db0008c",
   "metadata": {},
   "source": [
    "# Loading Sequencing Data"
   ]
  },
  {
   "cell_type": "code",
   "execution_count": 2,
   "id": "d35d07b3",
   "metadata": {},
   "outputs": [],
   "source": [
    "metadata = Metadata.load(\"../data/metadata.txt\")\n",
    "manifest = Metadata.load(\"../data/manifest_corrected_final.tsv\")"
   ]
  },
  {
   "cell_type": "code",
   "execution_count": 9,
   "id": "b822f8d4",
   "metadata": {},
   "outputs": [],
   "source": [
    "metadata_visualization = metadata_actions.tabulate(metadata)\n",
    "manifest_visualization = metadata_actions.tabulate(manifest)"
   ]
  },
  {
   "cell_type": "code",
   "execution_count": 10,
   "id": "02c83161",
   "metadata": {},
   "outputs": [
    {
     "data": {
      "text/plain": [
       "'../results/manifest.qzv'"
      ]
     },
     "execution_count": 10,
     "metadata": {},
     "output_type": "execute_result"
    }
   ],
   "source": [
    "metadata_visualization.visualization.save(\"../results/metadata.qzv\")\n",
    "manifest_visualization.visualization.save(\"../results/manifest.qzv\")"
   ]
  },
  {
   "cell_type": "code",
   "execution_count": 7,
   "id": "b3939bc1",
   "metadata": {},
   "outputs": [],
   "source": [
    "microbial_sequences = Artifact.import_data('SampleData[PairedEndSequencesWithQuality]',\n",
    "                                          '../data/manifest_corrected_final.tsv',\n",
    "                                          view_type='PairedEndFastqManifestPhred33V2')"
   ]
  },
  {
   "cell_type": "code",
   "execution_count": 11,
   "id": "e8f9656f",
   "metadata": {},
   "outputs": [
    {
     "data": {
      "text/plain": [
       "'../results/imported_data.qza'"
      ]
     },
     "execution_count": 11,
     "metadata": {},
     "output_type": "execute_result"
    }
   ],
   "source": [
    "microbial_sequences.save(\"../results/imported_data.qza\")"
   ]
  },
  {
   "cell_type": "markdown",
   "id": "1e838afd",
   "metadata": {},
   "source": [
    "# Summarizing Sequencing Data\n",
    "no need for **demultiplexing** our *Hydra* samples"
   ]
  },
  {
   "cell_type": "code",
   "execution_count": 12,
   "id": "48df4ed5",
   "metadata": {},
   "outputs": [],
   "source": [
    "microbial_sequences = Artifact.load(\"../results/imported_data.qza\")"
   ]
  },
  {
   "cell_type": "code",
   "execution_count": 16,
   "id": "9a61b9f6",
   "metadata": {},
   "outputs": [],
   "source": [
    "sequence_summary = summarize(microbial_sequences)"
   ]
  },
  {
   "cell_type": "code",
   "execution_count": 18,
   "id": "cf38687b",
   "metadata": {},
   "outputs": [
    {
     "data": {
      "text/plain": [
       "'../results/sequence_summary.qzv'"
      ]
     },
     "execution_count": 18,
     "metadata": {},
     "output_type": "execute_result"
    }
   ],
   "source": [
    "sequence_summary.visualization.save(\"../results/sequence_summary.qzv\")"
   ]
  }
 ],
 "metadata": {
  "kernelspec": {
   "display_name": "Python 3 (ipykernel)",
   "language": "python",
   "name": "python3"
  },
  "language_info": {
   "codemirror_mode": {
    "name": "ipython",
    "version": 3
   },
   "file_extension": ".py",
   "mimetype": "text/x-python",
   "name": "python",
   "nbconvert_exporter": "python",
   "pygments_lexer": "ipython3",
   "version": "3.10.14"
  }
 },
 "nbformat": 4,
 "nbformat_minor": 5
}
