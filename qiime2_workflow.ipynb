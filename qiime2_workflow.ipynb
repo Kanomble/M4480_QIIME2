{
 "cells": [
  {
   "cell_type": "code",
   "execution_count": null,
   "id": "58783261",
   "metadata": {},
   "outputs": [],
   "source": [
    "from qiime2 import Metadata\n",
    "from qiime2 import Artifact\n",
    "import qiime2.plugins.metadata.actions as metadata_actions\n",
    "from qiime2.plugins.demux.visualizers import summarize\n",
    "from qiime2.plugins.dada2.methods import denoise_paired\n",
    "from qiime2.plugins.metadata.visualizers import tabulate\n",
    "from qiime2.plugins.feature_table.methods import filter_features, filter_samples, filter_seqs\n",
    "import qiime2.plugins.phylogeny.actions as phylo_actions\n",
    "import qiime2.plugins.diversity.pipelines as diversity_pipelines\n",
    "import qiime2.plugins.diversity.visualizers as diversity_visualizers\n",
    "\n",
    "from qiime2.plugins.feature_classifier.methods import classify_sklearn\n",
    "from qiime2.plugins.taxa.visualizers import barplot\n",
    "\n",
    "from skbio import TreeNode\n",
    "\n",
    "import warnings\n",
    "warnings.simplefilter(action='ignore', category=FutureWarning)"
   ]
  },
  {
   "cell_type": "markdown",
   "id": "0db0008c",
   "metadata": {},
   "source": [
    "# Loading Sequencing Data"
   ]
  },
  {
   "cell_type": "code",
   "execution_count": null,
   "id": "d35d07b3",
   "metadata": {},
   "outputs": [],
   "source": [
    "metadata = Metadata.load(\"../data/metadata.txt\")\n",
    "manifest = Metadata.load(\"../data/manifest_corrected_final.tsv\")"
   ]
  },
  {
   "cell_type": "code",
   "execution_count": null,
   "id": "b822f8d4",
   "metadata": {},
   "outputs": [],
   "source": [
    "metadata_visualization = metadata_actions.tabulate(metadata)\n",
    "manifest_visualization = metadata_actions.tabulate(manifest)"
   ]
  },
  {
   "cell_type": "code",
   "execution_count": null,
   "id": "02c83161",
   "metadata": {},
   "outputs": [],
   "source": [
    "metadata_visualization.visualization.save(\"../results/metadata.qzv\")\n",
    "manifest_visualization.visualization.save(\"../results/manifest.qzv\")"
   ]
  },
  {
   "cell_type": "code",
   "execution_count": null,
   "id": "b3939bc1",
   "metadata": {},
   "outputs": [],
   "source": [
    "microbial_sequences = Artifact.import_data('SampleData[PairedEndSequencesWithQuality]',\n",
    "                                          '../data/manifest_corrected_final.tsv',\n",
    "                                          view_type='PairedEndFastqManifestPhred33V2')"
   ]
  },
  {
   "cell_type": "code",
   "execution_count": null,
   "id": "e8f9656f",
   "metadata": {},
   "outputs": [],
   "source": [
    "microbial_sequences.save(\"../results/imported_data.qza\")"
   ]
  },
  {
   "cell_type": "markdown",
   "id": "1e838afd",
   "metadata": {},
   "source": [
    "# Summarizing Sequencing Data\n",
    "no need for **demultiplexing** our *Hydra* samples"
   ]
  },
  {
   "cell_type": "code",
   "execution_count": null,
   "id": "48df4ed5",
   "metadata": {},
   "outputs": [],
   "source": [
    "microbial_sequences = Artifact.load(\"../results/imported_data.qza\")"
   ]
  },
  {
   "cell_type": "code",
   "execution_count": null,
   "id": "9a61b9f6",
   "metadata": {},
   "outputs": [],
   "source": [
    "sequence_summary = summarize(microbial_sequences)"
   ]
  },
  {
   "cell_type": "code",
   "execution_count": null,
   "id": "cf38687b",
   "metadata": {},
   "outputs": [],
   "source": [
    "sequence_summary.visualization.save(\"../results/sequence_summary.qzv\")"
   ]
  },
  {
   "cell_type": "markdown",
   "id": "4a3ed54b",
   "metadata": {},
   "source": [
    "# DADA2 Denoising Sequencing Data"
   ]
  },
  {
   "cell_type": "code",
   "execution_count": null,
   "id": "bf1a7905",
   "metadata": {},
   "outputs": [],
   "source": [
    "denoised_microbial_sequences = denoise_paired(demultiplexed_seqs=microbial_sequences,\n",
    "                                               trunc_len_f=240,trunc_len_r=240,n_threads=4)"
   ]
  },
  {
   "cell_type": "code",
   "execution_count": null,
   "id": "4c0d82ea",
   "metadata": {},
   "outputs": [],
   "source": [
    "denoised_microbial_sequences.table.save(\"../results/denoised_feature_table.qza\")\n",
    "denoised_microbial_sequences.representative_sequences.save(\"../results/denoised_sequences.qza\")\n",
    "denoised_microbial_sequences.denoising_stats.save(\"../results/denoising_stats.qza\")"
   ]
  },
  {
   "cell_type": "code",
   "execution_count": null,
   "id": "0a29f2c5",
   "metadata": {},
   "outputs": [],
   "source": [
    "denoising_stats_visualization = tabulate(input=denoised_microbial_sequences.denoising_stats.view(Metadata))\n",
    "denoising_stats_visualization.visualization.save(\"../results/denoising_stats_visualization_strict.qzv\")"
   ]
  },
  {
   "cell_type": "code",
   "execution_count": null,
   "id": "2786c269",
   "metadata": {},
   "outputs": [],
   "source": [
    "denoising_microbial_sequences_table = tabulate(input=denoised_microbial_sequences.table.view(Metadata))\n",
    "denoising_microbial_sequences_table.visualization.save(\"../results/denoising_microbial_sequences_table_unstrict.qzv\")"
   ]
  },
  {
   "cell_type": "code",
   "execution_count": null,
   "id": "6901bc32",
   "metadata": {},
   "outputs": [],
   "source": [
    "denoised_microbial_sequences = Artifact.load(\"../results/denoised_sequences.qza\")\n",
    "denoised_microbial_table = Artifact.load(\"../results/denoised_feature_table.qza\")"
   ]
  },
  {
   "cell_type": "code",
   "execution_count": null,
   "id": "decad4ac",
   "metadata": {},
   "outputs": [],
   "source": [
    "denoised_microbial_table"
   ]
  },
  {
   "cell_type": "markdown",
   "id": "b91a0df5",
   "metadata": {},
   "source": [
    "# Filter Low Representative Sequences"
   ]
  },
  {
   "cell_type": "code",
   "execution_count": null,
   "id": "fba61120",
   "metadata": {},
   "outputs": [],
   "source": [
    "filtered_denoised_microbial_table = filter_features(table=denoised_microbial_table, min_frequency=50, min_samples=3)"
   ]
  },
  {
   "cell_type": "code",
   "execution_count": null,
   "id": "b6366337",
   "metadata": {},
   "outputs": [],
   "source": [
    "filter_visualization = tabulate(filtered_denoised_microbial_table.filtered_table.view(Metadata))\n",
    "filter_visualization.visualization.save(\"../results/filtered_denoised_microbial_table.qzv\")"
   ]
  },
  {
   "cell_type": "code",
   "execution_count": null,
   "id": "91bbe299",
   "metadata": {},
   "outputs": [],
   "source": [
    "final_filtered_denoised_microbial_table = filter_samples(table=filtered_denoised_microbial_table.filtered_table,\n",
    "                                                         min_frequency=2000)"
   ]
  },
  {
   "cell_type": "code",
   "execution_count": null,
   "id": "ef1c1d29",
   "metadata": {},
   "outputs": [],
   "source": [
    "final_filtered_denoised_microbial_table.filtered_table.save(\"../results/final_filtered_denoised_microbial_table.qza\")"
   ]
  },
  {
   "cell_type": "code",
   "execution_count": null,
   "id": "468c3961",
   "metadata": {},
   "outputs": [],
   "source": [
    "filter_visualization = tabulate(final_filtered_denoised_microbial_table.filtered_table.view(Metadata))\n",
    "filter_visualization.visualization.save(\"../results/final_filtered_denoised_microbial_table.qzv\")"
   ]
  },
  {
   "cell_type": "code",
   "execution_count": null,
   "id": "03a11fae",
   "metadata": {},
   "outputs": [],
   "source": [
    "filtered_denoised_microbial_sequences = filter_seqs(data=denoised_microbial_sequences,\n",
    "                                                    table=final_filtered_denoised_microbial_table.filtered_table)"
   ]
  },
  {
   "cell_type": "code",
   "execution_count": null,
   "id": "e1184dd4",
   "metadata": {},
   "outputs": [],
   "source": [
    "filtered_denoised_microbial_sequences.filtered_data.save(\"../results/final_sequences.qza\")"
   ]
  },
  {
   "cell_type": "markdown",
   "id": "850658ef",
   "metadata": {},
   "source": [
    "# Phylogenetic Inference"
   ]
  },
  {
   "cell_type": "code",
   "execution_count": null,
   "id": "9ec1c140",
   "metadata": {},
   "outputs": [],
   "source": [
    "final_sequences = Artifact.load(\"../results/final_sequences.qza\")\n",
    "raw_sequences = Artifact.load(\"../results/denoised_sequences.qza\")"
   ]
  },
  {
   "cell_type": "code",
   "execution_count": null,
   "id": "03495e34",
   "metadata": {},
   "outputs": [],
   "source": [
    "phylo_results_final = phylo_actions.align_to_tree_mafft_fasttree(sequences=final_sequences)\n",
    "phylo_results_raw = phylo_actions.align_to_tree_mafft_fasttree(sequences=raw_sequences)"
   ]
  },
  {
   "cell_type": "code",
   "execution_count": null,
   "id": "1d6df190",
   "metadata": {},
   "outputs": [],
   "source": [
    "!mkdir ../results/phylo"
   ]
  },
  {
   "cell_type": "code",
   "execution_count": null,
   "id": "0587aea2",
   "metadata": {},
   "outputs": [],
   "source": [
    "phylo_results_raw.alignment.save(\"../results/phylo/alignment_raw.qza\")\n",
    "phylo_results_raw.masked_alignment.save(\"../results/phylo/masked_alignment_raw.qza\")\n",
    "phylo_results_raw.tree.save(\"../results/phylo/tree_raw.qza\")\n",
    "phylo_results_raw.rooted_tree.save(\"../results/phylo/rooted_tree_raw.qza\")"
   ]
  },
  {
   "cell_type": "code",
   "execution_count": null,
   "id": "bc5c1b61",
   "metadata": {},
   "outputs": [],
   "source": [
    "phylo_results_final.alignment.save(\"../results/phylo/alignment_final.qza\")\n",
    "phylo_results_final.masked_alignment.save(\"../results/phylo/masked_alignment_final.qza\")\n",
    "phylo_results_final.tree.save(\"../results/phylo/tree_final.qza\")\n",
    "phylo_results_final.rooted_tree.save(\"../results/phylo/rooted_tree_final.qza\")"
   ]
  },
  {
   "cell_type": "markdown",
   "id": "19ea9bf8",
   "metadata": {},
   "source": [
    "# Diversity Analysis"
   ]
  },
  {
   "cell_type": "code",
   "execution_count": null,
   "id": "0ca38946",
   "metadata": {},
   "outputs": [],
   "source": [
    "diversity_analysis_results = diversity_pipelines.core_metrics_phylogenetic(\n",
    "    phylogeny=phylo_results_final.rooted_tree,\n",
    "    table=final_filtered_denoised_microbial_table.filtered_table,\n",
    "    metadata=metadata,sampling_depth=5000)"
   ]
  },
  {
   "cell_type": "code",
   "execution_count": null,
   "id": "1cd56127",
   "metadata": {},
   "outputs": [],
   "source": [
    "!mkdir ../results/diversity/"
   ]
  },
  {
   "cell_type": "code",
   "execution_count": null,
   "id": "66511318",
   "metadata": {},
   "outputs": [],
   "source": [
    "diversity_analysis_results.shannon_vector.save(\"../results/diversity/shannon_diversity.qza\")"
   ]
  },
  {
   "cell_type": "code",
   "execution_count": null,
   "id": "595bbbc7",
   "metadata": {},
   "outputs": [],
   "source": [
    "shannon_visualizer = diversity_visualizers.alpha_group_significance(\n",
    "    alpha_diversity=diversity_analysis_results.shannon_vector, metadata=metadata)"
   ]
  },
  {
   "cell_type": "code",
   "execution_count": null,
   "id": "4466ac72",
   "metadata": {},
   "outputs": [],
   "source": [
    "shannon_visualizer.visualization.save(\"../results/diversity/shannon_visualizer.qzv\")"
   ]
  },
  {
   "cell_type": "code",
   "execution_count": null,
   "id": "60889cbd",
   "metadata": {},
   "outputs": [],
   "source": [
    "diversity_analysis_results.bray_curtis_distance_matrix.save(\"../results/diversity/bray_curtis_distance_matrix.qza\")"
   ]
  },
  {
   "cell_type": "code",
   "execution_count": null,
   "id": "e8fd6398",
   "metadata": {},
   "outputs": [],
   "source": [
    "from skbio import DistanceMatrix"
   ]
  },
  {
   "cell_type": "code",
   "execution_count": null,
   "id": "a3182ad4",
   "metadata": {},
   "outputs": [],
   "source": [
    "diversity_analysis_results.bray_curtis_distance_matrix.view(DistanceMatrix)"
   ]
  },
  {
   "cell_type": "code",
   "execution_count": null,
   "id": "0ec4deb4",
   "metadata": {},
   "outputs": [],
   "source": [
    "from skbio import OrdinationResults"
   ]
  },
  {
   "cell_type": "code",
   "execution_count": null,
   "id": "12c16390",
   "metadata": {},
   "outputs": [],
   "source": [
    "pcoa = diversity_analysis_results.bray_curtis_pcoa_results.view(OrdinationResults)"
   ]
  },
  {
   "cell_type": "code",
   "execution_count": null,
   "id": "46804143",
   "metadata": {},
   "outputs": [],
   "source": [
    "pcoa.proportion_explained"
   ]
  },
  {
   "cell_type": "code",
   "execution_count": null,
   "id": "71509b64",
   "metadata": {},
   "outputs": [],
   "source": [
    "twelve = pcoa.samples.iloc[:5,0:1]\n",
    "eighteen = pcoa.samples.iloc[5:,0:1]"
   ]
  },
  {
   "cell_type": "code",
   "execution_count": null,
   "id": "f637fcb3",
   "metadata": {},
   "outputs": [],
   "source": [
    "import matplotlib.pyplot as plt"
   ]
  },
  {
   "cell_type": "code",
   "execution_count": null,
   "id": "485adafa",
   "metadata": {},
   "outputs": [],
   "source": [
    "plt.figure(figsize=(8,6))\n",
    "plt.scatter(range(len(twelve)),twelve)\n",
    "plt.scatter(range(len(eighteen)),eighteen)\n",
    "plt.savefig(\"../results/pcoa_bray_curtis.png\", dpi=400)"
   ]
  },
  {
   "cell_type": "code",
   "execution_count": null,
   "id": "37c83e55",
   "metadata": {},
   "outputs": [],
   "source": [
    "pcoa.samples.index"
   ]
  },
  {
   "cell_type": "code",
   "execution_count": null,
   "id": "b890701b",
   "metadata": {},
   "outputs": [],
   "source": [
    "first_comp = pcoa.samples.iloc[:,0:1]\n",
    "second_comp = pcoa.samples.iloc[:,1:2]\n",
    "\n",
    "color = []\n",
    "for entry in pcoa.samples.index:\n",
    "    entry = entry.split(\"_\")[0]\n",
    "    if entry == \"12C\":\n",
    "        color.append(\"blue\")\n",
    "    else:\n",
    "        color.append(\"orange\")\n",
    "        \n",
    "plt.figure(figsize=(8,6))\n",
    "plt.scatter(first_comp, second_comp, color=color)\n",
    "plt.savefig(\"../results/pcoa_bray_curtis.png\",dpi=400)"
   ]
  },
  {
   "cell_type": "markdown",
   "id": "c02f66e0",
   "metadata": {},
   "source": [
    "# Taxonomic Classification"
   ]
  },
  {
   "cell_type": "code",
   "execution_count": null,
   "id": "435c7039",
   "metadata": {},
   "outputs": [],
   "source": [
    "classifier = Artifact.load(\"../data/classifier/silva-138.1-ssu-nr99-27f-388r-classifier.qza\")"
   ]
  },
  {
   "cell_type": "code",
   "execution_count": null,
   "id": "e8564e04",
   "metadata": {},
   "outputs": [],
   "source": [
    "taxonomy = classify_sklearn(reads=final_sequences,classifier=classifier)"
   ]
  },
  {
   "cell_type": "code",
   "execution_count": null,
   "id": "7825fa2f",
   "metadata": {},
   "outputs": [],
   "source": [
    "taxonomy.classification.save(\"../results/taxonomy.qza\")"
   ]
  },
  {
   "cell_type": "code",
   "execution_count": null,
   "id": "c8bc3f86",
   "metadata": {},
   "outputs": [],
   "source": [
    "taxonomy_barplot = barplot(table=final_filtered_denoised_microbial_table.filtered_table,\n",
    "                           taxonomy=taxonomy.classification,\n",
    "                           metadata=metadata)"
   ]
  },
  {
   "cell_type": "code",
   "execution_count": null,
   "id": "4fee6670",
   "metadata": {},
   "outputs": [],
   "source": [
    "!mkdir ../results/taxonomy"
   ]
  },
  {
   "cell_type": "code",
   "execution_count": null,
   "id": "c605831c",
   "metadata": {},
   "outputs": [],
   "source": [
    "taxonomy_barplot.visualization.save(\"../results/taxonomy/barplottaxonomy.qzv\")"
   ]
  },
  {
   "cell_type": "code",
   "execution_count": null,
   "id": "dfbe19d5",
   "metadata": {},
   "outputs": [],
   "source": [
    "taxonomy_table = tabulate(taxonomy.classification.view(Metadata))"
   ]
  },
  {
   "cell_type": "code",
   "execution_count": null,
   "id": "07be38b2",
   "metadata": {},
   "outputs": [],
   "source": [
    "taxonomy_table.visualization.save(\"../results/taxonomy/taxonomy_table.qzv\")"
   ]
  }
 ],
 "metadata": {
  "kernelspec": {
   "display_name": "Python 3 (ipykernel)",
   "language": "python",
   "name": "python3"
  },
  "language_info": {
   "codemirror_mode": {
    "name": "ipython",
    "version": 3
   },
   "file_extension": ".py",
   "mimetype": "text/x-python",
   "name": "python",
   "nbconvert_exporter": "python",
   "pygments_lexer": "ipython3",
   "version": "3.10.14"
  }
 },
 "nbformat": 4,
 "nbformat_minor": 5
}
