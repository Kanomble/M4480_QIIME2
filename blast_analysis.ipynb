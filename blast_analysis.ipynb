{
 "cells": [
  {
   "cell_type": "code",
   "execution_count": null,
   "id": "677066d6",
   "metadata": {},
   "outputs": [],
   "source": [
    "!ls ../data/blast/"
   ]
  },
  {
   "cell_type": "code",
   "execution_count": null,
   "id": "dd240f06",
   "metadata": {},
   "outputs": [],
   "source": [
    "path_to_fasta = \"../data/blast/sequences.fasta\""
   ]
  },
  {
   "cell_type": "code",
   "execution_count": null,
   "id": "1350cfa4",
   "metadata": {},
   "outputs": [],
   "source": [
    "import os"
   ]
  },
  {
   "cell_type": "code",
   "execution_count": null,
   "id": "34e500b2",
   "metadata": {},
   "outputs": [],
   "source": [
    "with open(path_to_fasta,\"r\") as fasta_file:\n",
    "    if os.path.isfile(\"../data/blast/clean_sequences.fasta\") == True:\n",
    "        print(\"[-] File Already Exists!\")\n",
    "    else:\n",
    "        print(\"[+] File Does Not Exist!\")\n",
    "        with open(\"../data/blast/clean_sequences.fasta\",\"w\") as clean_file:\n",
    "            for line in fasta_file.readlines():\n",
    "                if line != \"\\n\":\n",
    "                    clean_file.write(line)"
   ]
  },
  {
   "cell_type": "code",
   "execution_count": null,
   "id": "9021557a",
   "metadata": {},
   "outputs": [],
   "source": [
    "!mkdir ../results/blast/"
   ]
  },
  {
   "cell_type": "code",
   "execution_count": null,
   "id": "16b92f2c",
   "metadata": {},
   "outputs": [],
   "source": [
    "%%bash\n",
    "\n",
    "blastn -db core_nt -outfmt \"6 qseqid sseqid pident evalue bitscore qgi sgi sacc staxids sscinames scomnames stitle slen\" \\\n",
    "-evalue 0.005 -max_target_seqs 10 -query ../data/blast/clean_sequences.fasta -out ../results/blast/blast_output.table -remote "
   ]
  },
  {
   "cell_type": "code",
   "execution_count": null,
   "id": "51a7dfce",
   "metadata": {},
   "outputs": [],
   "source": [
    "import pandas as pd"
   ]
  },
  {
   "cell_type": "code",
   "execution_count": null,
   "id": "bb2a0397",
   "metadata": {},
   "outputs": [],
   "source": [
    "blast_table = pd.read_table(\"../results/blast/blast_output.table\", header=None)\n",
    "blast_table.columns = \"qseqid sseqid pident evalue bitscore qgi sgi sacc staxids sscinames scomnames stitle slen\".split(\" \")\n",
    "blast_table.head()"
   ]
  },
  {
   "cell_type": "code",
   "execution_count": null,
   "id": "023dfcec",
   "metadata": {},
   "outputs": [],
   "source": [
    "co1_ids = [\"JRA287\",\"JRA284\",\"JRA290\",\"JRA281\",\"JRA297\",\"JRA296\",\"JRA263\",\"JRA268\",\"JRA257\",\"JRA260\",\"JRA251\",\"JRA254\",\"JRA277\",\"JRA276\",\"JRA269\",\"JRA272\"]\n",
    "\n",
    "len(co1_ids)"
   ]
  },
  {
   "cell_type": "code",
   "execution_count": null,
   "id": "c640303d",
   "metadata": {},
   "outputs": [],
   "source": [
    "id_to_taxonomy = {}\n",
    "for query in blast_table.qseqid.unique():\n",
    "    query_id = query.split(\"_\")[0]\n",
    "    if query_id in co1_ids:\n",
    "        temp_table = blast_table[blast_table[\"qseqid\"] == query]\n",
    "        temp_table = temp_table.sort_values(by=\"pident\", ascending=False)\n",
    "        id_to_taxonomy[query_id] = \" \".join(temp_table[\"stitle\"].to_list()[0].split(\" \")[:2])\n",
    "#id_to_taxonomy"
   ]
  },
  {
   "cell_type": "code",
   "execution_count": null,
   "id": "6d2c68b9",
   "metadata": {},
   "outputs": [],
   "source": [
    "with open(\"../data/blast/clean_sequences.fasta\",\"r\") as cleaned_sequences:\n",
    "    with open(\"../data/blast/co1_sequences.fasta\",\"w\") as co1_sequences:\n",
    "        for line in cleaned_sequences.readlines():\n",
    "\n",
    "            if line.startswith(\">\"):\n",
    "                header_id = line.rstrip()[1:].split(\"_\")[0]\n",
    "                if header_id in co1_ids:\n",
    "                    switch = True\n",
    "                    line = \">\" + header_id + id_to_taxonomy[header_id].split(\" \")[1] + \"\\n\"\n",
    "                    #print(line.rstrip())\n",
    "                else:\n",
    "                    switch = False \n",
    "\n",
    "            if switch == True:\n",
    "                co1_sequences.write(line)"
   ]
  },
  {
   "cell_type": "code",
   "execution_count": null,
   "id": "045b77df",
   "metadata": {},
   "outputs": [],
   "source": [
    "!mafft ../data/blast/co1_sequences.fasta > ../results/co1_sequences.msa"
   ]
  },
  {
   "cell_type": "code",
   "execution_count": null,
   "id": "7a4de58e",
   "metadata": {},
   "outputs": [],
   "source": [
    "!fasttree -nt ../results/co1_sequences.msa > ../results/co1_sequences.nwk"
   ]
  }
 ],
 "metadata": {
  "kernelspec": {
   "display_name": "Python 3 (ipykernel)",
   "language": "python",
   "name": "python3"
  },
  "language_info": {
   "codemirror_mode": {
    "name": "ipython",
    "version": 3
   },
   "file_extension": ".py",
   "mimetype": "text/x-python",
   "name": "python",
   "nbconvert_exporter": "python",
   "pygments_lexer": "ipython3",
   "version": "3.10.14"
  }
 },
 "nbformat": 4,
 "nbformat_minor": 5
}
